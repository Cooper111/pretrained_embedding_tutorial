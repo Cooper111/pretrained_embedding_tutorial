{
 "cells": [
  {
   "cell_type": "code",
   "execution_count": 3,
   "metadata": {},
   "outputs": [
    {
     "name": "stderr",
     "output_type": "stream",
     "text": [
      "Using TensorFlow backend.\n",
      "F:\\Anaconda\\envs\\tensorflow-gpu\\lib\\site-packages\\gensim\\utils.py:865: UserWarning: detected Windows; aliasing chunkize to chunkize_serial\n",
      "  warnings.warn(\"detected Windows; aliasing chunkize to chunkize_serial\")\n"
     ]
    }
   ],
   "source": [
    "import sys, os, re, csv, codecs, numpy as np, pandas as pd\n",
    "import matplotlib.pyplot as plt\n",
    "%matplotlib inline\n",
    "from keras.preprocessing.text import Tokenizer\n",
    "from keras.preprocessing.sequence import pad_sequences\n",
    "from keras.layers import Dense, Input, LSTM, Embedding, Dropout, Activation\n",
    "from keras.layers import Bidirectional, GlobalMaxPool1D,Bidirectional\n",
    "from keras.models import Model\n",
    "from keras import initializers, regularizers, constraints, optimizers, layers\n",
    "import matplotlib.pyplot as plt\n",
    "%matplotlib inline\n",
    "import gensim.models.keyedvectors as word2vec\n",
    "import gc"
   ]
  },
  {
   "cell_type": "code",
   "execution_count": 4,
   "metadata": {},
   "outputs": [],
   "source": [
    "train = pd.read_csv('../input/train.csv')\n",
    "test = pd.read_csv('../input/test.csv')\n",
    "embed_size = 0"
   ]
  },
  {
   "cell_type": "code",
   "execution_count": 5,
   "metadata": {},
   "outputs": [],
   "source": [
    "list_classes = ['toxic', 'severe_toxic', 'obscene', 'threat', 'insult', 'identity_hate']\n",
    "y = train[list_classes].values\n",
    "list_sentences_train = train['comment_text']\n",
    "list_sentences_test = test['comment_text']"
   ]
  },
  {
   "cell_type": "code",
   "execution_count": 6,
   "metadata": {},
   "outputs": [],
   "source": [
    "max_features = 20000\n",
    "tokenizer = Tokenizer(num_words=max_features)\n",
    "tokenizer.fit_on_texts(list(list_sentences_train))\n",
    "list_tokenized_train = tokenizer.texts_to_sequences(list_sentences_train)\n",
    "list_tokenized_test = tokenizer.texts_to_sequences(list_sentences_test)"
   ]
  },
  {
   "cell_type": "code",
   "execution_count": 7,
   "metadata": {},
   "outputs": [],
   "source": [
    "maxlen = 200\n",
    "X_t = pad_sequences(list_tokenized_train, maxlen=maxlen)\n",
    "X_te = pad_sequences(list_tokenized_test, maxlen=maxlen)"
   ]
  },
  {
   "cell_type": "code",
   "execution_count": 12,
   "metadata": {},
   "outputs": [],
   "source": [
    "#由于我们将计算一些单词嵌入，让我们定义一个函数，以便能够正确地运行我们的实验。我将在下面的函数中添加一些注释，以便更好地理解。\n",
    "# 请注意，Kaggle数据集中嵌入了很多手套，我觉得使用基于Twitter文本进行训练的手套更合适。由于我们数据集中的注释由随意的、用户生成的短消息组成，因此使用的语义可能非常相似。因此，我们可能能够捕捉本质，并使用它来产生一个良好的准确的分数。\n",
    "# 同样，我也使用了经过谷歌负面新闻文本语料库训练的Word2Vec嵌入，希望它的负面词汇能在我们的“有毒”上下文中更好地发挥作用。"
   ]
  },
  {
   "cell_type": "code",
   "execution_count": 27,
   "metadata": {},
   "outputs": [],
   "source": [
    "def loadEmbeddingMatrix(typeToLoad):\n",
    "    #根据Embedding的不同，从Kaggle加载不同的嵌入文件\n",
    "    #我们要实验的矩阵\n",
    "    if(typeToLoad=='glove'):\n",
    "        EMBEDDING_FILE = '../input/glove.twitter.27B.25d.txt'\n",
    "        embed_size = 25\n",
    "    elif(typeToLoad=='word2vec'):\n",
    "        word2vecDict = word2vec.KeyedVectors.load_word2vec_format('../../Quora/input/embeddings/GoogleNews-vectors-negative300/GoogleNews-vectors-negative300.bin', binary=True)\n",
    "        embed_size = 300\n",
    "    elif(typeToLoad=='fasttext'):\n",
    "        EMBEDDING_FILE='../input/wiki.simple.vec'\n",
    "        embed_size = 300\n",
    "    \n",
    "    if(typeToLoad=='glove' or typeToLoad=='fasttext'):\n",
    "        embeddings_index = dict()\n",
    "        #通过遍历文件的每一行，将Embedding权重转移到字典中。\n",
    "        f = open(EMBEDDING_FILE)\n",
    "        for line in f:\n",
    "            #split up line into an indexed array\n",
    "            values = line.split()\n",
    "            #first index is word\n",
    "            word = values[0]\n",
    "            #store the rest of the values in the array as a new array\n",
    "            coefs = np.asarray(values[1:], dtype='float32')\n",
    "            embeddings_index[word] = coefs #50 dimensions\n",
    "        f.close()\n",
    "        print('Loaded %s word vectors.' % len(embeddings_index))\n",
    "    else:\n",
    "        embeddings_index = dict()\n",
    "        for word in word2vecDict.wv.vocab:\n",
    "            embeddings_index[word] = word2vecDict.word_vec(word)\n",
    "        print('Loaded %s word vectors.' % len(embeddings_index))\n",
    "    \n",
    "    gc.collect()\n",
    "    #我们得到嵌入权值的均值和标准差，这样我们就可以保持\n",
    "    #对于我们自己随机产生的权值的其余部分，同样的统计数据。\n",
    "    all_embs = np.stack(list(embeddings_index.values()))\n",
    "    emb_mean, emb_std = all_embs.mean(), all_embs.std()\n",
    "    \n",
    "    nb_words = len(tokenizer.word_index)\n",
    "    #我们讲设置Embedding的尺寸为我们复制的预训练的维度\n",
    "    #Embedding矩阵大小将为 词汇中词数 X Embedding Size\n",
    "    embedding_matrix = np.random.normal(emb_mean, emb_std, (nb_words, embed_size))\n",
    "    gc.collect()\n",
    "    \n",
    "    #使用新创建的嵌入矩阵，我们将用两个矩阵中的单词填充它\n",
    "    #我们自己的字典和加载预训练嵌入。\n",
    "    embeddedCount = 0\n",
    "    for word, i in tokenizer.word_index.items():\n",
    "        i -= 1\n",
    "        #然后我们看看这个词是否在GLove的字典里，如果是，得到相应的权重\n",
    "        embedding_vector = embeddings_index.get(word)\n",
    "        #并存储在Embedding矩阵中，我们稍后将用其进行训练。\n",
    "        if embedding_vector is not None:\n",
    "            embedding_matrix[i] = embedding_vector\n",
    "            embeddedCount += 1\n",
    "    print('total embedded:', embeddedCount,'common words')\n",
    "    \n",
    "    del(embeddings_index)\n",
    "    gc.collect()\n",
    "    \n",
    "    #最后，返回Embedding矩阵\n",
    "    return embedding_matrix\n",
    "    "
   ]
  },
  {
   "cell_type": "code",
   "execution_count": 28,
   "metadata": {},
   "outputs": [],
   "source": [
    "#该函数将返回一个新的嵌入矩阵，\n",
    "#该矩阵中包含了我们常用单词的预训练嵌入中加载的权重，\n",
    "#以及随机初始化的数字，该矩阵中其余权重的均值和标准差相同。"
   ]
  },
  {
   "cell_type": "code",
   "execution_count": 29,
   "metadata": {},
   "outputs": [],
   "source": [
    "#让我们继续，从Word2Vec加载第一个嵌入"
   ]
  },
  {
   "cell_type": "code",
   "execution_count": 30,
   "metadata": {},
   "outputs": [
    {
     "name": "stdout",
     "output_type": "stream",
     "text": [
      "Loaded 3000000 word vectors.\n",
      "total embedded: 66078 common words\n"
     ]
    }
   ],
   "source": [
    "embedding_matrix = loadEmbeddingMatrix('word2vec')"
   ]
  },
  {
   "cell_type": "code",
   "execution_count": 31,
   "metadata": {},
   "outputs": [
    {
     "data": {
      "text/plain": [
       "(210337, 300)"
      ]
     },
     "execution_count": 31,
     "metadata": {},
     "output_type": "execute_result"
    }
   ],
   "source": [
    "embedding_matrix.shape"
   ]
  },
  {
   "cell_type": "markdown",
   "metadata": {},
   "source": [
    "With the embedding weights, we can proceed to build a LSTM layer. The whole architecture is pretty much the same as the previous one I have done in the earlier kernel here, except that I have turned the LSTM into a bidirectional one, and added a dropout factor to it. \n",
    "\n",
    "We start off with defining our input layer. By indicating an empty space after comma, we are telling Keras to infer the number automatically."
   ]
  },
  {
   "cell_type": "code",
   "execution_count": 32,
   "metadata": {},
   "outputs": [],
   "source": [
    "inp = Input(shape=(maxlen, )) #maxlen=200 as defined earlier"
   ]
  },
  {
   "cell_type": "markdown",
   "metadata": {},
   "source": [
    "Next, we pass it to our Embedding layer, where we use the \"weights\" parameter to indicate the use of the pretrained embedding weights we have loaded and the \"trainable\" parameter to tell Keras not to retrain the embedding layer."
   ]
  },
  {
   "cell_type": "code",
   "execution_count": 33,
   "metadata": {},
   "outputs": [],
   "source": [
    "x = Embedding(len(tokenizer.word_index), embedding_matrix.shape[1],weights=[embedding_matrix],trainable=False)(inp)"
   ]
  },
  {
   "cell_type": "markdown",
   "metadata": {},
   "source": [
    "Next, we pass it to a LSTM unit. But this time round, we will be using a Bidirectional LSTM instead because there are several kernels which shows a decent gain in accuracy by using Bidirectional LSTM.\n",
    "\n",
    "How does Bidirectional LSTM work? \n",
    "\n",
    "![](https://i.imgur.com/jaKiP0S.png)\n",
    "\n",
    "Imagine that the LSTM is split between 2 hidden states for each time step. As the sequence of words is being feed into the LSTM in a forward fashion, there's another reverse sequence that is feeding to the different hidden state at the same time. You might noticed later at the model summary that the output dimension of LSTM layer has doubled to 120 because 60 dimensions are used for forward, and another 60 are used for reverse.\n",
    "\n",
    "The greatest advantage in using Bidirectional LSTM is that when it runs backwards you preserve information from the future and using the two hidden states combined, you are able in any point in time to preserve information from both past and future.\n"
   ]
  },
  {
   "cell_type": "code",
   "execution_count": 34,
   "metadata": {},
   "outputs": [
    {
     "name": "stdout",
     "output_type": "stream",
     "text": [
      "WARNING:tensorflow:From F:\\Anaconda\\envs\\tensorflow-gpu\\lib\\site-packages\\keras\\backend\\tensorflow_backend.py:1242: calling reduce_sum (from tensorflow.python.ops.math_ops) with keep_dims is deprecated and will be removed in a future version.\n",
      "Instructions for updating:\n",
      "keep_dims is deprecated, use keepdims instead\n"
     ]
    }
   ],
   "source": [
    "x = Bidirectional(LSTM(60, return_sequences=True,name='lstm_layer',dropout=0.1,recurrent_dropout=0.1))(x)"
   ]
  },
  {
   "cell_type": "markdown",
   "metadata": {},
   "source": [
    "Okay! With the LSTM behind us, we'll feed the output into the rest of the layers which we have done so in the previous kernel. "
   ]
  },
  {
   "cell_type": "code",
   "execution_count": 35,
   "metadata": {},
   "outputs": [
    {
     "name": "stdout",
     "output_type": "stream",
     "text": [
      "WARNING:tensorflow:From F:\\Anaconda\\envs\\tensorflow-gpu\\lib\\site-packages\\keras\\backend\\tensorflow_backend.py:1208: calling reduce_max (from tensorflow.python.ops.math_ops) with keep_dims is deprecated and will be removed in a future version.\n",
      "Instructions for updating:\n",
      "keep_dims is deprecated, use keepdims instead\n"
     ]
    }
   ],
   "source": [
    "x = GlobalMaxPool1D()(x)"
   ]
  },
  {
   "cell_type": "code",
   "execution_count": 36,
   "metadata": {},
   "outputs": [],
   "source": [
    "x = Dropout(0.1)(x)"
   ]
  },
  {
   "cell_type": "code",
   "execution_count": 37,
   "metadata": {},
   "outputs": [],
   "source": [
    "x = Dense(50, activation='relu')(x)"
   ]
  },
  {
   "cell_type": "code",
   "execution_count": 38,
   "metadata": {},
   "outputs": [],
   "source": [
    "x = Dropout(0.1)(x)"
   ]
  },
  {
   "cell_type": "code",
   "execution_count": 39,
   "metadata": {},
   "outputs": [],
   "source": [
    "x = Dense(6, activation='sigmoid')(x)"
   ]
  },
  {
   "cell_type": "code",
   "execution_count": 40,
   "metadata": {},
   "outputs": [
    {
     "name": "stdout",
     "output_type": "stream",
     "text": [
      "WARNING:tensorflow:From F:\\Anaconda\\envs\\tensorflow-gpu\\lib\\site-packages\\keras\\backend\\tensorflow_backend.py:1344: calling reduce_mean (from tensorflow.python.ops.math_ops) with keep_dims is deprecated and will be removed in a future version.\n",
      "Instructions for updating:\n",
      "keep_dims is deprecated, use keepdims instead\n"
     ]
    }
   ],
   "source": [
    "model = Model(inputs=inp, outputs=x)\n",
    "model.compile(loss='binary_crossentropy',\n",
    "             optimizer='adam',\n",
    "             metrics=['accuracy'])"
   ]
  },
  {
   "cell_type": "code",
   "execution_count": 41,
   "metadata": {},
   "outputs": [],
   "source": [
    "#在训练之前查看整个网络的架构是一个好主意，因为您不想把宝贵的时间浪费在错误的设置上。"
   ]
  },
  {
   "cell_type": "code",
   "execution_count": 42,
   "metadata": {},
   "outputs": [
    {
     "name": "stdout",
     "output_type": "stream",
     "text": [
      "_________________________________________________________________\n",
      "Layer (type)                 Output Shape              Param #   \n",
      "=================================================================\n",
      "input_1 (InputLayer)         (None, 200)               0         \n",
      "_________________________________________________________________\n",
      "embedding_1 (Embedding)      (None, 200, 300)          63101100  \n",
      "_________________________________________________________________\n",
      "bidirectional_1 (Bidirection (None, 200, 120)          173280    \n",
      "_________________________________________________________________\n",
      "global_max_pooling1d_1 (Glob (None, 120)               0         \n",
      "_________________________________________________________________\n",
      "dropout_1 (Dropout)          (None, 120)               0         \n",
      "_________________________________________________________________\n",
      "dense_1 (Dense)              (None, 50)                6050      \n",
      "_________________________________________________________________\n",
      "dropout_2 (Dropout)          (None, 50)                0         \n",
      "_________________________________________________________________\n",
      "dense_2 (Dense)              (None, 6)                 306       \n",
      "=================================================================\n",
      "Total params: 63,280,736\n",
      "Trainable params: 179,636\n",
      "Non-trainable params: 63,101,100\n",
      "_________________________________________________________________\n"
     ]
    }
   ],
   "source": [
    "model.summary()"
   ]
  },
  {
   "cell_type": "markdown",
   "metadata": {},
   "source": [
    "最后，我们启动了训练过程，目标是运行4个epoch，批大小为32。我们将训练和验证损失保存在一个变量中，这样我们可以查看是否存在过拟合。"
   ]
  },
  {
   "cell_type": "code",
   "execution_count": 43,
   "metadata": {},
   "outputs": [],
   "source": [
    "#batch_size = 32\n",
    "#epochs = 4\n",
    "#hist = model.fit(X_t,y, batch_size=batch_size, epochs=epochs, validation_split=0.1)"
   ]
  },
  {
   "cell_type": "markdown",
   "metadata": {},
   "source": [
    "模型的训练将比Kaggle kenel所允许的要长。我已经预先运行过了，这就是你们应该大致看到的结果"
   ]
  },
  {
   "cell_type": "markdown",
   "metadata": {},
   "source": [
    "Train on 143613 samples, validate on 15958 samples\n",
    "\n",
    "Epoch 1/4\n",
    "143613/143613 [==============================] - 2938s 20ms/step - loss: 0.0843 - acc: 0.9739 - val_loss: 0.0630 - val_acc: 0.9786\n",
    "\n",
    "Epoch 2/4\n",
    "143613/143613 [==============================] - 3332s 23ms/step - loss: 0.0573 - acc: 0.9805 - val_loss: 0.0573 - val_acc: 0.9803\n",
    "\n",
    "Epoch 3/4\n",
    "143613/143613 [==============================] - 3119s 22ms/step - loss: 0.0513 - acc: 0.9819 - val_loss: 0.0511 - val_acc: 0.9817\n",
    "\n",
    "Epoch 4/4\n",
    "143613/143613 [==============================] - 3137s 22ms/step - loss: 0.0477 - acc: 0.9827 - val_loss: 0.0498 - val_acc: 0.9820\n"
   ]
  },
  {
   "cell_type": "code",
   "execution_count": 44,
   "metadata": {},
   "outputs": [],
   "source": [
    "#loadEmbeddingMatrix('word2vec')"
   ]
  },
  {
   "cell_type": "markdown",
   "metadata": {},
   "source": [
    "with"
   ]
  },
  {
   "cell_type": "code",
   "execution_count": 45,
   "metadata": {},
   "outputs": [],
   "source": [
    "#loadEmbeddingMatrix('glove') #for GLOVE or\n",
    "#loadEmbeddingMatrix('fasttext') #for fasttext"
   ]
  },
  {
   "cell_type": "markdown",
   "metadata": {},
   "source": [
    "加载来自不同来源的预训练嵌入。\n",
    "为了我们的基准。我已经预运行了它并收集了所有的结果。"
   ]
  },
  {
   "cell_type": "markdown",
   "metadata": {},
   "source": [
    "**GLOVE:**\n",
    "\n",
    "Train on 143613 samples, validate on 15958 samples\n",
    "\n",
    "Epoch 1/4\n",
    "143613/143613 [==============================] - 2470s 17ms/step - loss: 0.1160 - acc: 0.9656 - val_loss: 0.0935 - val_acc: 0.9703\n",
    "\n",
    "Epoch 2/4\n",
    "143613/143613 [==============================] - 2448s 17ms/step - loss: 0.0887 - acc: 0.9721 - val_loss: 0.0800 - val_acc: 0.9737\n",
    "\n",
    "Epoch 3/4\n",
    "143613/143613 [==============================] - 2410s 17ms/step - loss: 0.0799 - acc: 0.9745 - val_loss: 0.0753 - val_acc: 0.9757\n",
    "\n",
    "Epoch 4/4\n",
    "143613/143613 [==============================] - 2398s 17ms/step - loss: 0.0753 - acc: 0.9760 - val_loss: 0.0724 - val_acc: 0.9768\n"
   ]
  },
  {
   "cell_type": "markdown",
   "metadata": {},
   "source": [
    "**Fasttext:**\n",
    "\n",
    "Train on 143613 samples, validate on 15958 samples\n",
    "\n",
    "Epoch 1/4\n",
    "143613/143613 [==============================] - 2800s 19ms/step - loss: 0.0797 - acc: 0.9757 - val_loss: 0.0589 - val_acc: 0.9795\n",
    "\n",
    "Epoch 2/4\n",
    "143613/143613 [==============================] - 2756s 19ms/step - loss: 0.0561 - acc: 0.9808 - val_loss: 0.0549 - val_acc: 0.9804\n",
    "\n",
    "Epoch 3/4\n",
    "143613/143613 [==============================] - 2772s 19ms/step - loss: 0.0507 - acc: 0.9819 - val_loss: 0.0548 - val_acc: 0.9811\n",
    "\n",
    "Epoch 4/4\n",
    "143613/143613 [==============================] - 2819s 20ms/step - loss: 0.0474 - acc: 0.9828 - val_loss: 0.0507 - val_acc: 0.9817\n"
   ]
  },
  {
   "cell_type": "markdown",
   "metadata": {},
   "source": [
    "当然，同样的baseline模型不使用任何预先训练的嵌入，直接从之前的kenel中获得，除了我们运行了4个epochs:"
   ]
  },
  {
   "cell_type": "markdown",
   "metadata": {},
   "source": [
    "Train on 143613 samples, validate on 15958 samples\n",
    "\n",
    "Epoch 1/4\n",
    "143613/143613 [==============================] - 5597s 39ms/step - loss: 0.0633 - acc: 0.9788 - val_loss: 0.0480 - val_acc: 0.9825\n",
    "\n",
    "Epoch 2/4\n",
    "143613/143613 [==============================] - 5360s 37ms/step - loss: 0.0448 - acc: 0.9832 - val_loss: 0.0464 - val_acc: 0.9828\n",
    "\n",
    "Epoch 3/4\n",
    "143613/143613 [==============================] - 5352s 37ms/step - loss: 0.0390 - acc: 0.9848 - val_loss: 0.0470 - val_acc: 0.9829\n",
    "\n",
    "Epoch 4/4\n",
    "129984/143613 [==============================] - 5050s 37ms/step - loss: 0.0386 - acc: 0.9858 - val_loss: 0.0478 - val_acc: 0.9830"
   ]
  },
  {
   "cell_type": "markdown",
   "metadata": {},
   "source": [
    "如果我们把损失画成图表就容易多了"
   ]
  },
  {
   "cell_type": "code",
   "execution_count": 46,
   "metadata": {},
   "outputs": [],
   "source": [
    "all_losses = {\n",
    "'word2vec_loss': [0.084318213647104789,\n",
    "  0.057314205012433353,\n",
    "  0.051338302593577821,\n",
    "  0.047672802178572039],\n",
    " 'word2vec_val_loss': [0.063002561892695971,\n",
    "  0.057253835496480658,\n",
    "  0.051085027624451551,\n",
    "  0.049801279793734249],\n",
    "'glove_loss': [0.11598931579683543,\n",
    "  0.088738223480436862,\n",
    "  0.079895263566000005,\n",
    "  0.075343037429358703],\n",
    " 'glove_val_loss': [0.093467933030432285,\n",
    "  0.080007083813922117,\n",
    "  0.075349041991106688,\n",
    "  0.072366507668134517],\n",
    " 'fasttext_loss': [0.079714499498945865,\n",
    "  0.056074704045674786,\n",
    "  0.050703874653286324,\n",
    "  0.047420131195761134],\n",
    " 'fasttext_val_loss': [0.058888281775148932,\n",
    "  0.054906051694414926,\n",
    "  0.054768857866843601,\n",
    "  0.050697043558286421],\n",
    " 'baseline_loss': [0.063304489498915865,\n",
    "  0.044864004045674786,\n",
    "  0.039013874651286124,\n",
    "  0.038630130175761134],\n",
    " 'baseline_val_loss': [0.048044281075148932,\n",
    "  0.046414051594414926,\n",
    "  0.047058757860843601,\n",
    "  0.047886043558285421]\n",
    "}"
   ]
  },
  {
   "cell_type": "code",
   "execution_count": 47,
   "metadata": {},
   "outputs": [
    {
     "data": {
      "image/png": "[encoded data removed]",
      "text/plain": [
       "<matplotlib.figure.Figure at 0x207933d4518>"
      ]
     },
     "metadata": {},
     "output_type": "display_data"
    }
   ],
   "source": [
    "#f, ax = plt.subplots(1)\n",
    "epochRange = np.arange(1,5,1)\n",
    "plt.plot(epochRange,all_losses['word2vec_loss'])\n",
    "plt.plot(epochRange,all_losses['glove_loss'])\n",
    "plt.plot(epochRange,all_losses['fasttext_loss'])\n",
    "plt.plot(epochRange,all_losses['baseline_loss'])\n",
    "plt.title('Training loss for different embeddings')\n",
    "plt.ylabel('loss')\n",
    "plt.xlabel('epoch')\n",
    "plt.legend(['Word2Vec', 'GLOVE','FastText','Baseline'], loc='upper left')\n",
    "plt.show()"
   ]
  },
  {
   "cell_type": "markdown",
   "metadata": {},
   "source": [
    "看起来baseline的训练损失是最小的。但是在我们结束这个案例并选择baseline模型作为赢家之前，这个情节并不能说明全部，因为在baseline模型中似乎存在一些过拟合。<br>从第二阶段开始，随着验证损失大于训练损失，过拟合开始出现"
   ]
  },
  {
   "cell_type": "code",
   "execution_count": 48,
   "metadata": {},
   "outputs": [
    {
     "data": {
      "image/png": "[encoded data removed]",
      "text/plain": [
       "<matplotlib.figure.Figure at 0x20793e589b0>"
      ]
     },
     "metadata": {},
     "output_type": "display_data"
    }
   ],
   "source": [
    "epochRange = np.arange(1,5,1)\n",
    "plt.plot(epochRange,all_losses['baseline_loss'])\n",
    "plt.plot(epochRange,all_losses['baseline_val_loss'])\n",
    "plt.title('Training Vs Validation loss for baseline model')\n",
    "plt.ylabel('loss')\n",
    "plt.xlabel('epoch')\n",
    "plt.legend(['Training', 'Validation'], loc='upper left')\n",
    "plt.show()"
   ]
  },
  {
   "cell_type": "markdown",
   "metadata": {},
   "source": [
    "剩下的呢?让我们画出所有的训练/验证损失图来进行比较。"
   ]
  },
  {
   "cell_type": "code",
   "execution_count": 49,
   "metadata": {},
   "outputs": [
    {
     "data": {
      "image/png": "[encoded data removed]",
      "text/plain": [
       "<matplotlib.figure.Figure at 0x207940979b0>"
      ]
     },
     "metadata": {},
     "output_type": "display_data"
    }
   ],
   "source": [
    "f, ((ax1, ax2), (ax3, ax4)) = plt.subplots(2, 2, sharex='col', sharey='row',figsize=(20, 20))\n",
    "\n",
    "plt.title('Training Vs Validation loss for all embeddings')\n",
    "ax1.plot(epochRange,all_losses['baseline_loss'])\n",
    "ax1.plot(epochRange,all_losses['baseline_val_loss'])\n",
    "ax1.set_title('Baseline')\n",
    "ax1.set_ylim(0.03, 0.12)\n",
    "\n",
    "ax2.plot(epochRange,all_losses['word2vec_loss'])\n",
    "ax2.plot(epochRange,all_losses['word2vec_val_loss'])\n",
    "ax2.set_title('Word2Vec')\n",
    "ax2.set_ylim(0.03, 0.12)\n",
    "\n",
    "ax3.plot(epochRange,all_losses['glove_loss'])\n",
    "ax3.plot(epochRange,all_losses['glove_val_loss'])\n",
    "ax3.set_title('GLOVE')\n",
    "ax3.set_ylim(0.03, 0.12)\n",
    "\n",
    "\n",
    "ax4.plot(epochRange,all_losses['fasttext_loss'])\n",
    "ax4.plot(epochRange,all_losses['fasttext_val_loss'])\n",
    "ax4.set_title('FastText')\n",
    "ax4.set_ylim(0.03, 0.12)\n",
    "\n",
    "plt.show()"
   ]
  },
  {
   "cell_type": "markdown",
   "metadata": {},
   "source": [
    "考虑到所有的损失，很容易看出哪个是最好的选择。虽然这只手套看起来仍有一些空间，但与其他手套相比，它的损耗是很大的。另一方面，Word2Vec和FastText分别在第4和第3个时代开始过度匹配。那么你会选择哪一个作为赢家呢?在我看来，仍然是基线模型。\n",
    "那么问题出在哪里呢?难道预先训练的嵌入不应该改进吗?因为它是用来自大量特征丰富语料库的数十亿单词进行训练的。\n",
    "一种可能性是，这些预先训练的嵌入没有针对文本i进行训练"
   ]
  },
  {
   "cell_type": "code",
   "execution_count": 50,
   "metadata": {},
   "outputs": [],
   "source": [
    "wordCount = {'word2vec':66078,'glove':81610,'fasttext':59613,'baseline':210337}"
   ]
  },
  {
   "cell_type": "code",
   "execution_count": 51,
   "metadata": {},
   "outputs": [
    {
     "data": {
      "image/png": "[encoded data removed]",
      "text/plain": [
       "<matplotlib.figure.Figure at 0x20794074d30>"
      ]
     },
     "metadata": {},
     "output_type": "display_data"
    }
   ],
   "source": [
    "ind = np.arange(0,4,1)  # the x locations for the groups\n",
    "width = 0.35       # the width of the bars\n",
    "\n",
    "plt.title('Number of common words used in different embeddings')\n",
    "embNames = list(wordCount.keys())\n",
    "embVals = list(wordCount.values())\n",
    "plt.barh(ind,embVals,align='center', height=0.5, color='m',tick_label=embNames)\n",
    "plt.show()"
   ]
  },
  {
   "cell_type": "markdown",
   "metadata": {},
   "source": [
    "从上面的条形图中可以明显看出，baseline包含的单词最多<br>\n",
    "因为嵌入层是使用数据集中的单词进行训练的。<br>重要的结论是，预先训练的嵌入只包含大约60,000个共同的单词(少于基线的一半)，\n",
    "<br>而由这些预先训练的权重构建的嵌入层不能很好地表示训练数据。\n",
    "<br>虽然构建您自己的嵌入需要更长的时间，但它可能是值得的，因为它是专门为您的上下文构建的。"
   ]
  },
  {
   "cell_type": "markdown",
   "metadata": {},
   "source": [
    "这就完成了这个内核!我希望有人在这个内核中学到了一些东西。\n",
    "<br>如果你发现了一个错误，请在下面的评论中告诉我。\n",
    "<br>感谢阅读，祝比赛顺利!"
   ]
  },
  {
   "cell_type": "markdown",
   "metadata": {},
   "source": [
    "**TODO:**\n",
    "1. There are many pretrained embeddings in Kaggle, and they are trained in different contexts of text corpus. You could try out other pretrained embeddings that is more suitable to the dataset in our competition.\n",
    "2. Introduce LSTM drop out and recurrent drop out in baseline model, and tune the dropout rate to decrease overfitting."
   ]
  },
  {
   "cell_type": "code",
   "execution_count": null,
   "metadata": {},
   "outputs": [],
   "source": []
  }
 ],
 "metadata": {
  "kernelspec": {
   "display_name": "tensorflow-gpu",
   "language": "python",
   "name": "tensorflow-gpu"
  },
  "language_info": {
   "codemirror_mode": {
    "name": "ipython",
    "version": 3
   },
   "file_extension": ".py",
   "mimetype": "text/x-python",
   "name": "python",
   "nbconvert_exporter": "python",
   "pygments_lexer": "ipython3",
   "version": "3.6.2"
  }
 },
 "nbformat": 4,
 "nbformat_minor": 2
}
